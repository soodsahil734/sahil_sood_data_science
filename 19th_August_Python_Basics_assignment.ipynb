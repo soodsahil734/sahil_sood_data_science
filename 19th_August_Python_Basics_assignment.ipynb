{
 "cells": [
  {
   "cell_type": "code",
   "execution_count": 41,
   "id": "18085ed9-c60e-4995-8e4f-ebadf4a9828e",
   "metadata": {},
   "outputs": [
    {
     "name": "stdout",
     "output_type": "stream",
     "text": [
      "5\n",
      "6\n"
     ]
    }
   ],
   "source": [
    "#Swapping two integers\n",
    "d= 5\n",
    "e=6\n",
    "e = d+e\n",
    "d = e-d\n",
    "e =e -d\n",
    "print(e)\n",
    "print(d)"
   ]
  },
  {
   "cell_type": "code",
   "execution_count": 42,
   "id": "a561f817-a7cb-4932-9ad8-f1cf59da7d5f",
   "metadata": {},
   "outputs": [
    {
     "name": "stdin",
     "output_type": "stream",
     "text": [
      "Enter the Length of the Rectangle: 20\n",
      "Enter the Breadth of the Rectangle: 20\n"
     ]
    },
    {
     "name": "stdout",
     "output_type": "stream",
     "text": [
      "Area of Rectangle: 400\n"
     ]
    }
   ],
   "source": [
    "#Length of rectangle\n",
    "length = int(input(\"Enter the Length of the Rectangle:\"))\n",
    "#Breadth of Rectangle\n",
    "breadth = int(input(\"Enter the Breadth of the Rectangle:\"))\n",
    "#Area of Rectangle\n",
    "area = length * breadth\n",
    "print(\"Area of Rectangle:\", area)"
   ]
  },
  {
   "cell_type": "code",
   "execution_count": 43,
   "id": "f6ed11da-9720-455d-a891-b638ec02a657",
   "metadata": {},
   "outputs": [
    {
     "name": "stdin",
     "output_type": "stream",
     "text": [
      "Please Enter the temperature in Celsius: 34\n"
     ]
    },
    {
     "name": "stdout",
     "output_type": "stream",
     "text": [
      "93.2\n"
     ]
    }
   ],
   "source": [
    "#Convert temperature from celsius to Fahrenheit\n",
    "temp_celsius = int(input(\"Please Enter the temperature in Celsius:\"))\n",
    "temp_fahrenheit = (temp_celsius * 1.8) + 32\n",
    "print(temp_fahrenheit)"
   ]
  },
  {
   "cell_type": "code",
   "execution_count": 44,
   "id": "e3e73de8-0ea6-4553-8190-cfa103371de0",
   "metadata": {},
   "outputs": [
    {
     "name": "stdin",
     "output_type": "stream",
     "text": [
      "Please enter a string abc\n"
     ]
    },
    {
     "name": "stdout",
     "output_type": "stream",
     "text": [
      "Length of the string: 3\n"
     ]
    }
   ],
   "source": [
    "\n",
    "x= len(input(\"Please enter a string\"))\n",
    "print(\"Length of the string:\",x)\n"
   ]
  },
  {
   "cell_type": "code",
   "execution_count": 46,
   "id": "27789c68-07ed-4047-ba96-d9ce809d4c0c",
   "metadata": {},
   "outputs": [
    {
     "name": "stdin",
     "output_type": "stream",
     "text": [
      "Enter a Sentence: abc\n"
     ]
    },
    {
     "name": "stdout",
     "output_type": "stream",
     "text": [
      "No of Vowels in the sentence: 1\n"
     ]
    }
   ],
   "source": [
    "# Count The number of vowels in a string\n",
    "sentence = input(\"Enter a Sentence:\")\n",
    "vowel = ['a', 'e', 'i', 'o', 'u']\n",
    "count =0;\n",
    "for letter in sentence:\n",
    "  if letter.lower() in vowel:\n",
    "    count += 1\n",
    "print(\"No of Vowels in the sentence:\",count)\n",
    "    \n"
   ]
  },
  {
   "cell_type": "code",
   "execution_count": 49,
   "id": "5409c172-7060-4689-8577-894665ffdfe4",
   "metadata": {},
   "outputs": [
    {
     "name": "stdin",
     "output_type": "stream",
     "text": [
      "Please enter a word: racecar\n"
     ]
    },
    {
     "name": "stdout",
     "output_type": "stream",
     "text": [
      "The string is a palindrome\n"
     ]
    }
   ],
   "source": [
    "# Check if string is a palindrome\n",
    "letter = input('Please enter a word:');\n",
    "letter_reversed = letter[::-1]\n",
    "if (letter.lower() == letter_reversed.lower()):\n",
    " print('The string is a palindrome')\n",
    "else:\n",
    "    print('The string is not a palindrome')\n",
    "    print(letter_reversed)\n",
    "\n"
   ]
  },
  {
   "cell_type": "code",
   "execution_count": 50,
   "id": "b33b5227-962f-4fc2-bf72-1b92488047df",
   "metadata": {},
   "outputs": [
    {
     "name": "stdout",
     "output_type": "stream",
     "text": [
      "Reversed String:  luhsnA\n"
     ]
    }
   ],
   "source": [
    "#Reverse a string\n",
    "Name = 'Anshul'\n",
    "print(\"Reversed String: \",Name[::-1])"
   ]
  },
  {
   "cell_type": "code",
   "execution_count": 51,
   "id": "ada8beb1-1e21-4633-80d1-1439355cf825",
   "metadata": {},
   "outputs": [
    {
     "name": "stdin",
     "output_type": "stream",
     "text": [
      "Please enter a string: helooo    \n"
     ]
    },
    {
     "name": "stdout",
     "output_type": "stream",
     "text": [
      "String without spaces: helooo\n"
     ]
    }
   ],
   "source": [
    "# Removed spaces from string\n",
    "text = input(\"Please enter a string:\")\n",
    "modified_text = text.strip()\n",
    "print(\"String without spaces:\",modified_text)"
   ]
  },
  {
   "cell_type": "code",
   "execution_count": null,
   "id": "3429c8fc-ef21-4d5d-b61e-ef9618995e58",
   "metadata": {},
   "outputs": [],
   "source": []
  }
 ],
 "metadata": {
  "kernelspec": {
   "display_name": "Python 3 (ipykernel)",
   "language": "python",
   "name": "python3"
  },
  "language_info": {
   "codemirror_mode": {
    "name": "ipython",
    "version": 3
   },
   "file_extension": ".py",
   "mimetype": "text/x-python",
   "name": "python",
   "nbconvert_exporter": "python",
   "pygments_lexer": "ipython3",
   "version": "3.10.8"
  }
 },
 "nbformat": 4,
 "nbformat_minor": 5
}
